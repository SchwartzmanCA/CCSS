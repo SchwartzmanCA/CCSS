{
 "cells": [
  {
   "cell_type": "code",
   "execution_count": 6,
   "id": "33ad5b0a-5d1f-42c7-bcb6-8c66f75269a3",
   "metadata": {},
   "outputs": [],
   "source": [
    "! . ./bin/activate"
   ]
  },
  {
   "cell_type": "code",
   "execution_count": 8,
   "id": "8ec21a6e-8962-4193-964d-89edf9794ccf",
   "metadata": {},
   "outputs": [
    {
     "name": "stdout",
     "output_type": "stream",
     "text": [
      "\u001b[1;31merror\u001b[0m: \u001b[1mexternally-managed-environment\u001b[0m\n",
      "\n",
      "\u001b[31m×\u001b[0m This environment is externally managed\n",
      "\u001b[31m╰─>\u001b[0m \n",
      "\u001b[31m   \u001b[0m The system-wide Python installation in Gentoo should be maintained\n",
      "\u001b[31m   \u001b[0m using the system package manager (e.g. emerge).\n",
      "\u001b[31m   \u001b[0m \n",
      "\u001b[31m   \u001b[0m If the package in question is not packaged for Gentoo, please\n",
      "\u001b[31m   \u001b[0m consider installing it inside a virtual environment, e.g.:\n",
      "\u001b[31m   \u001b[0m \n",
      "\u001b[31m   \u001b[0m python -m venv /path/to/venv\n",
      "\u001b[31m   \u001b[0m . /path/to/venv/bin/activate\n",
      "\u001b[31m   \u001b[0m pip install mypackage\n",
      "\u001b[31m   \u001b[0m \n",
      "\u001b[31m   \u001b[0m To exit the virtual environment, run:\n",
      "\u001b[31m   \u001b[0m \n",
      "\u001b[31m   \u001b[0m deactivate\n",
      "\u001b[31m   \u001b[0m \n",
      "\u001b[31m   \u001b[0m The virtual environment is not deleted, and can be re-entered by\n",
      "\u001b[31m   \u001b[0m re-sourcing the activate file.\n",
      "\n",
      "\u001b[1;35mnote\u001b[0m: If you believe this is a mistake, please contact your Python installation or OS distribution provider. You can override this, at the risk of breaking your Python installation or OS, by passing --break-system-packages.\n",
      "\u001b[1;36mhint\u001b[0m: See PEP 668 for the detailed specification.\n",
      "Note: you may need to restart the kernel to use updated packages.\n"
     ]
    }
   ],
   "source": [
    "pip install d3graph"
   ]
  },
  {
   "cell_type": "code",
   "execution_count": null,
   "id": "cb502520-af33-4b22-9eee-5e7436549e81",
   "metadata": {},
   "outputs": [],
   "source": []
  }
 ],
 "metadata": {
  "kernelspec": {
   "display_name": "Python 3 (ipykernel)",
   "language": "python",
   "name": "python3"
  },
  "language_info": {
   "codemirror_mode": {
    "name": "ipython",
    "version": 3
   },
   "file_extension": ".py",
   "mimetype": "text/x-python",
   "name": "python",
   "nbconvert_exporter": "python",
   "pygments_lexer": "ipython3",
   "version": "3.12.6"
  }
 },
 "nbformat": 4,
 "nbformat_minor": 5
}
