{
 "cells": [
  {
   "cell_type": "code",
   "execution_count": null,
   "id": "57abd1c1-996b-4478-968d-a61333182e2a",
   "metadata": {},
   "outputs": [],
   "source": []
  }
 ],
 "metadata": {
  "kernelspec": {
   "display_name": "",
   "name": ""
  },
  "language_info": {
   "name": ""
  }
 },
 "nbformat": 4,
 "nbformat_minor": 5
}
